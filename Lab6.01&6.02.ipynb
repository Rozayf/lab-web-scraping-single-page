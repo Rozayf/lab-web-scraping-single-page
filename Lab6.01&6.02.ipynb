{
 "cells": [
  {
   "cell_type": "markdown",
   "id": "44817c56",
   "metadata": {},
   "source": [
    "\n",
    "# 6.01"
   ]
  },
  {
   "cell_type": "code",
   "execution_count": 1,
   "id": "fde4a4ee",
   "metadata": {},
   "outputs": [],
   "source": [
    "from bs4 import BeautifulSoup\n",
    "import requests\n",
    "import pandas as pd\n"
   ]
  },
  {
   "cell_type": "code",
   "execution_count": 2,
   "id": "a016f6ac",
   "metadata": {},
   "outputs": [],
   "source": [
    "url = \"https://www.popvortex.com/music/charts/top-100-songs.php\""
   ]
  },
  {
   "cell_type": "code",
   "execution_count": 3,
   "id": "bc572aca",
   "metadata": {},
   "outputs": [
    {
     "data": {
      "text/plain": [
       "200"
      ]
     },
     "execution_count": 3,
     "metadata": {},
     "output_type": "execute_result"
    }
   ],
   "source": [
    "response = requests.get(url)\n",
    "response.status_code "
   ]
  },
  {
   "cell_type": "code",
   "execution_count": 4,
   "id": "2cc8f016",
   "metadata": {},
   "outputs": [],
   "source": [
    "soup = BeautifulSoup(response.content, \"html.parser\")"
   ]
  },
  {
   "cell_type": "code",
   "execution_count": 5,
   "id": "26bd259c",
   "metadata": {},
   "outputs": [],
   "source": [
    "#soup"
   ]
  },
  {
   "cell_type": "code",
   "execution_count": 6,
   "id": "aa75540a",
   "metadata": {},
   "outputs": [],
   "source": [
    "\n",
    "#chart-position-1 > div.chart-content.col-xs-12.col-sm-8 > p > cite\n",
    "#chart-position-1 > div.chart-content.col-xs-12.col-sm-8 > p > em\n",
    "title = soup.select(\"chart-position-1 > div.chart-content.col-xs-12.col-sm-8 > p > cite\")"
   ]
  },
  {
   "cell_type": "code",
   "execution_count": 7,
   "id": "9d6a7e91",
   "metadata": {},
   "outputs": [
    {
     "data": {
      "text/plain": [
       "[<cite class=\"title\">Fast Car</cite>,\n",
       " <cite class=\"title\">Take Two</cite>,\n",
       " <cite class=\"title\">Last Night</cite>,\n",
       " <cite class=\"title\">Need A Favor</cite>,\n",
       " <cite class=\"title\">81 Million Votes, My Ass</cite>,\n",
       " <cite class=\"title\">Save Me (with Lainey Wilson)</cite>,\n",
       " <cite class=\"title\">Son</cite>,\n",
       " <cite class=\"title\">Flowers</cite>,\n",
       " <cite><a href=\"http://www.billboard.com/charts/hot-100\" rel=\"noopener\" target=\"_blank\">Billboard Hot 100</a></cite>,\n",
       " <cite class=\"title\">Thank God I Do</cite>,\n",
       " <cite class=\"title\">Rode Hard</cite>,\n",
       " <cite class=\"title\">Calm Down</cite>,\n",
       " <cite class=\"title\">Bust a Move</cite>,\n",
       " <cite class=\"title\">Son Of A Sinner</cite>,\n",
       " <cite class=\"title\">Thinkin’ Bout Me</cite>,\n",
       " <cite class=\"title\">Funky Cold Medina</cite>,\n",
       " <cite class=\"title\">Dance The Night</cite>,\n",
       " <cite class=\"title\">Area Codes</cite>,\n",
       " <cite class=\"title\">Pound Town 2</cite>,\n",
       " <cite class=\"title\">Stand By Me (feat. Morgan Wallen)</cite>,\n",
       " <cite class=\"title\">Thicc As Thieves</cite>,\n",
       " <cite class=\"title\">All My Life (feat. J. Cole)</cite>,\n",
       " <cite class=\"title\">TRUSTFALL</cite>,\n",
       " <cite class=\"title\">Wild Thing</cite>,\n",
       " <cite class=\"title\">Let Me In</cite>,\n",
       " <cite class=\"title\">VULGAR</cite>,\n",
       " <cite class=\"title\">Cruel Summer</cite>,\n",
       " <cite class=\"title\">Thought You Should Know</cite>,\n",
       " <cite class=\"title\">Favorite Song</cite>,\n",
       " <cite class=\"title\">Heart Like A Truck</cite>,\n",
       " <cite class=\"title\">Dancin’ In The Country</cite>,\n",
       " <cite class=\"title\">Thank God</cite>,\n",
       " <cite class=\"title\">Love You Anyway</cite>,\n",
       " <cite class=\"title\">Karma</cite>,\n",
       " <cite class=\"title\">Anti-Hero</cite>,\n",
       " <cite>Billboard Hot 100</cite>,\n",
       " <cite class=\"title\">Religiously</cite>,\n",
       " <cite class=\"title\">If You Were Mine</cite>,\n",
       " <cite class=\"title\">Eyes Closed</cite>,\n",
       " <cite class=\"title\">Heaven</cite>,\n",
       " <cite class=\"title\">Rock and A Hard Place</cite>,\n",
       " <cite class=\"title\">One Thing At A Time</cite>,\n",
       " <cite class=\"title\">To the Bar</cite>,\n",
       " <cite class=\"title\">Mourning</cite>,\n",
       " <cite class=\"title\">Something in the Orange (Z&amp;E's Version)</cite>,\n",
       " <cite class=\"title\">Popular</cite>,\n",
       " <cite class=\"title\">Am I Dreaming</cite>,\n",
       " <cite class=\"title\">Praise You Anywhere</cite>,\n",
       " <cite class=\"title\">Bury Me in Georgia (Single Edit)</cite>,\n",
       " <cite class=\"title\">Watermelon Moonshine</cite>,\n",
       " <cite class=\"title\">Next Thing You Know</cite>,\n",
       " <cite class=\"title\">Can She Have This Dance</cite>,\n",
       " <cite class=\"title\">Tennessee Orange</cite>,\n",
       " <cite class=\"title\">Chemical</cite>,\n",
       " <cite class=\"title\">Dial Drunk</cite>,\n",
       " <cite class=\"title\">Tennessee Whiskey</cite>,\n",
       " <cite class=\"title\">Daylight</cite>,\n",
       " <cite class=\"title\">Fast Car</cite>,\n",
       " <cite class=\"title\">Unstoppable</cite>,\n",
       " <cite class=\"title\">Wasted On You</cite>,\n",
       " <cite class=\"title\">Hip Hop Hooray (Re-recorded Version)</cite>,\n",
       " <cite class=\"title\">wait in the truck</cite>,\n",
       " <cite class=\"title\">Sure Thing</cite>,\n",
       " <cite class=\"title\">Ella Baila Sola</cite>,\n",
       " <cite class=\"title\">Halfway To Hell</cite>,\n",
       " <cite class=\"title\">Waffle House</cite>,\n",
       " <cite class=\"title\">Take Me Out</cite>,\n",
       " <cite class=\"title\">Shivers</cite>,\n",
       " <cite class=\"title\">Peaches</cite>,\n",
       " <cite class=\"title\">Try That In A Small Town</cite>,\n",
       " <cite class=\"title\">O.P.P. (Re-recorded Version)</cite>,\n",
       " <cite class=\"title\">Cupid (Twin Ver.)</cite>,\n",
       " <cite class=\"title\">You Proof</cite>,\n",
       " <cite class=\"title\">Oklahoma Smokeshow</cite>,\n",
       " <cite class=\"title\">WHERE SHE GOES</cite>,\n",
       " <cite class=\"title\">One Margarita (Margarita Song)</cite>,\n",
       " <cite class=\"title\">PLEBADA</cite>,\n",
       " <cite class=\"title\">red flag collector</cite>,\n",
       " <cite class=\"title\">Gratitude</cite>,\n",
       " <cite class=\"title\">TRUCK BED</cite>,\n",
       " <cite class=\"title\">Drinkaby</cite>,\n",
       " <cite class=\"title\">Slut Me Out</cite>,\n",
       " <cite class=\"title\">Whiskey Glasses</cite>,\n",
       " <cite class=\"title\">I Ain't Worried</cite>,\n",
       " <cite class=\"title\">Makeba</cite>,\n",
       " <cite class=\"title\">Karma (feat. Ice Spice)</cite>,\n",
       " <cite class=\"title\">Perfect</cite>,\n",
       " <cite>Billboard Hot 100</cite>,\n",
       " <cite class=\"title\">Thunderstruck</cite>,\n",
       " <cite class=\"title\">Lilith (Diablo IV Anthem)</cite>,\n",
       " <cite class=\"title\">As It Was</cite>,\n",
       " <cite>Billboard Hot 100</cite>,\n",
       " <cite class=\"title\">You Need To Calm Down</cite>,\n",
       " <cite class=\"title\">Lover</cite>,\n",
       " <cite class=\"title\">Hits Different</cite>,\n",
       " <cite class=\"title\">Life Goes On (feat. Luke Combs)</cite>,\n",
       " <cite class=\"title\">Your Heart Or Mine</cite>,\n",
       " <cite class=\"title\">Memory Lane</cite>,\n",
       " <cite class=\"title\">HAPPY</cite>,\n",
       " <cite class=\"title\">Sunflower (Spider-Man: Into the Spider-Verse)</cite>,\n",
       " <cite>Billboard Hot 100</cite>,\n",
       " <cite class=\"title\">Beat You There</cite>,\n",
       " <cite class=\"title\">'Til You Can't</cite>,\n",
       " <cite class=\"title\">Put It On Da Floor Again (feat. Cardi B)</cite>,\n",
       " <cite class=\"title\">Chasin' You</cite>,\n",
       " <cite>The Voice</cite>]"
      ]
     },
     "execution_count": 7,
     "metadata": {},
     "output_type": "execute_result"
    }
   ],
   "source": [
    "soup.select(\"cite\")"
   ]
  },
  {
   "cell_type": "code",
   "execution_count": 8,
   "id": "943d60c3",
   "metadata": {},
   "outputs": [],
   "source": [
    "artist = soup.select(\"chart-position-1 > div.chart-content.col-xs-12.col-sm-8 > p > em\")"
   ]
  },
  {
   "cell_type": "code",
   "execution_count": 9,
   "id": "84fc87b5",
   "metadata": {},
   "outputs": [
    {
     "data": {
      "text/plain": [
       "[<em class=\"artist\">Luke Combs</em>,\n",
       " <em class=\"artist\">BTS</em>,\n",
       " <em>New Release</em>,\n",
       " <em class=\"artist\">Morgan Wallen</em>,\n",
       " <em class=\"artist\">Jelly Roll</em>,\n",
       " <em class=\"artist\">The Truth Bombers &amp; Kari Lake</em>,\n",
       " <em class=\"artist\">Jelly Roll</em>,\n",
       " <em class=\"artist\">Mitch Rossell</em>,\n",
       " <em class=\"artist\">Miley Cyrus</em>,\n",
       " <em class=\"artist\">Lauren Daigle</em>,\n",
       " <em class=\"artist\">Danae Hays</em>,\n",
       " <em>New Release</em>,\n",
       " <em class=\"artist\">Rema &amp; Selena Gomez</em>,\n",
       " <em class=\"artist\">Young MC</em>,\n",
       " <em class=\"artist\">Jelly Roll</em>,\n",
       " <em class=\"artist\">Morgan Wallen</em>,\n",
       " <em class=\"artist\">Tone-Loc</em>,\n",
       " <em class=\"artist\">Dua Lipa</em>,\n",
       " <em class=\"artist\">Kali</em>,\n",
       " <em class=\"artist\">Sexyy Red, Nicki Minaj &amp; Tay Keith</em>,\n",
       " <em class=\"artist\">Lil Durk</em>,\n",
       " <em class=\"artist\">Lauren Alaina &amp; Lainey Wilson</em>,\n",
       " <em>New Release</em>,\n",
       " <em class=\"artist\">Lil Durk</em>,\n",
       " <em class=\"artist\">P!nk</em>,\n",
       " <em class=\"artist\">Tone-Loc</em>,\n",
       " <em class=\"artist\">EXO</em>,\n",
       " <em>New Release</em>,\n",
       " <em class=\"artist\">Sam Smith &amp; Madonna</em>,\n",
       " <em>New Release</em>,\n",
       " <em class=\"artist\">Taylor Swift</em>,\n",
       " <em class=\"artist\">Morgan Wallen</em>,\n",
       " <em class=\"artist\">Toosii</em>,\n",
       " <em class=\"artist\">Lainey Wilson</em>,\n",
       " <em class=\"artist\">Tyler Hubbard</em>,\n",
       " <em class=\"artist\">Kane Brown &amp; Katelyn Brown</em>,\n",
       " <em class=\"artist\">Luke Combs</em>,\n",
       " <em class=\"artist\">Taylor Swift</em>,\n",
       " <em class=\"artist\">Taylor Swift</em>,\n",
       " <em class=\"artist\">Bailey Zimmerman</em>,\n",
       " <em class=\"artist\">Miranda Lambert &amp; Leon Bridges</em>,\n",
       " <em>New Release</em>,\n",
       " <em class=\"artist\">Ed Sheeran</em>,\n",
       " <em class=\"artist\">Niall Horan</em>,\n",
       " <em class=\"artist\">Bailey Zimmerman</em>,\n",
       " <em class=\"artist\">Morgan Wallen</em>,\n",
       " <em class=\"artist\">Cooper Alan</em>,\n",
       " <em>New Release</em>,\n",
       " <em class=\"artist\">Post Malone</em>,\n",
       " <em class=\"artist\">Zach Bryan</em>,\n",
       " <em class=\"artist\">The Weeknd, Playboi Carti &amp; Madonna</em>,\n",
       " <em class=\"artist\">Metro Boomin, A$AP Rocky &amp; Roisee</em>,\n",
       " <em class=\"artist\">Brandon Lake</em>,\n",
       " <em>New Release</em>,\n",
       " <em class=\"artist\">Kane Brown</em>,\n",
       " <em class=\"artist\">Lainey Wilson</em>,\n",
       " <em class=\"artist\">Jordan Davis</em>,\n",
       " <em class=\"artist\">Drew Baldridge</em>,\n",
       " <em class=\"artist\">Megan Moroney</em>,\n",
       " <em class=\"artist\">Post Malone</em>,\n",
       " <em class=\"artist\">Noah Kahan</em>,\n",
       " <em>New Release</em>,\n",
       " <em class=\"artist\">Chris Stapleton</em>,\n",
       " <em class=\"artist\">David Kushner</em>,\n",
       " <em class=\"artist\">Tracy Chapman</em>,\n",
       " <em class=\"artist\">Sia</em>,\n",
       " <em class=\"artist\">Morgan Wallen</em>,\n",
       " <em class=\"artist\">Naughty By Nature</em>,\n",
       " <em class=\"artist\">HARDY &amp; Lainey Wilson</em>,\n",
       " <em class=\"artist\">Miguel</em>,\n",
       " <em class=\"artist\">Eslabon Armado &amp; Peso Pluma</em>,\n",
       " <em class=\"artist\">Jelly Roll</em>,\n",
       " <em class=\"artist\">Jonas Brothers</em>,\n",
       " <em class=\"artist\">Carrie Underwood</em>,\n",
       " <em>New Release</em>,\n",
       " <em class=\"artist\">Ed Sheeran</em>,\n",
       " <em class=\"artist\">Jack Black</em>,\n",
       " <em class=\"artist\">Jason Aldean</em>,\n",
       " <em class=\"artist\">Naughty By Nature</em>,\n",
       " <em class=\"artist\">FIFTY FIFTY</em>,\n",
       " <em class=\"artist\">Morgan Wallen</em>,\n",
       " <em class=\"artist\">Zach Bryan</em>,\n",
       " <em class=\"artist\">Bad Bunny</em>,\n",
       " <em class=\"artist\">That Chick Angel, Casa Di &amp; Steve Terrell</em>,\n",
       " <em class=\"artist\">El Alfa &amp; Peso Pluma</em>,\n",
       " <em>New Release</em>,\n",
       " <em class=\"artist\">Kelly Clarkson</em>,\n",
       " <em>New Release</em>,\n",
       " <em class=\"artist\">Brandon Lake</em>,\n",
       " <em class=\"artist\">HARDY</em>,\n",
       " <em class=\"artist\">Cole Swindell</em>,\n",
       " <em class=\"artist\">NLE Choppa</em>,\n",
       " <em class=\"artist\">Morgan Wallen</em>,\n",
       " <em class=\"artist\">OneRepublic</em>,\n",
       " <em class=\"artist\">Jain</em>,\n",
       " <em class=\"artist\">Taylor Swift</em>,\n",
       " <em class=\"artist\">Ed Sheeran</em>,\n",
       " <em class=\"artist\">AC/DC</em>,\n",
       " <em class=\"artist\">Halsey, SUGA of BTS</em>,\n",
       " <em class=\"artist\">Harry Styles</em>,\n",
       " <em class=\"artist\">Taylor Swift</em>,\n",
       " <em class=\"artist\">Taylor Swift</em>,\n",
       " <em class=\"artist\">Taylor Swift</em>,\n",
       " <em class=\"artist\">Ed Sheeran</em>,\n",
       " <em class=\"artist\">Jon Pardi</em>,\n",
       " <em class=\"artist\">Old Dominion</em>,\n",
       " <em class=\"artist\">NF</em>,\n",
       " <em class=\"artist\">Post Malone &amp; Swae Lee</em>,\n",
       " <em class=\"artist\">Will Dempsey</em>,\n",
       " <em class=\"artist\">Cody Johnson</em>,\n",
       " <em class=\"artist\">Latto</em>,\n",
       " <em class=\"artist\">Morgan Wallen</em>]"
      ]
     },
     "execution_count": 9,
     "metadata": {},
     "output_type": "execute_result"
    }
   ],
   "source": [
    "soup.select(\"em\")"
   ]
  },
  {
   "cell_type": "code",
   "execution_count": 10,
   "id": "21754ce0",
   "metadata": {},
   "outputs": [
    {
     "data": {
      "text/plain": [
       "'Luke Combs'"
      ]
     },
     "execution_count": 10,
     "metadata": {},
     "output_type": "execute_result"
    }
   ],
   "source": [
    "soup.select(\"em\")[0].get_text()"
   ]
  },
  {
   "cell_type": "code",
   "execution_count": 11,
   "id": "ea909eda",
   "metadata": {},
   "outputs": [
    {
     "data": {
      "text/plain": [
       "'Fast Car'"
      ]
     },
     "execution_count": 11,
     "metadata": {},
     "output_type": "execute_result"
    }
   ],
   "source": [
    "soup.select(\"cite\")[0].get_text()"
   ]
  },
  {
   "cell_type": "code",
   "execution_count": 16,
   "id": "1ca48e05",
   "metadata": {},
   "outputs": [
    {
     "name": "stdout",
     "output_type": "stream",
     "text": [
      "['Fast Car', 'Take Two', 'Last Night', 'Need A Favor', '81 Million Votes, My Ass', 'Save Me (with Lainey Wilson)', 'Son', 'Flowers', 'Thank God I Do', 'Rode Hard', 'Calm Down', 'Bust a Move', 'Son Of A Sinner', 'Thinkin’ Bout Me', 'Funky Cold Medina', 'Dance The Night', 'Area Codes', 'Pound Town 2', 'Stand By Me (feat. Morgan Wallen)', 'Thicc As Thieves', 'All My Life (feat. J. Cole)', 'TRUSTFALL', 'Wild Thing', 'Let Me In', 'VULGAR', 'Cruel Summer', 'Thought You Should Know', 'Favorite Song', 'Heart Like A Truck', 'Dancin’ In The Country', 'Thank God', 'Love You Anyway', 'Karma', 'Anti-Hero', 'Religiously', 'If You Were Mine', 'Eyes Closed', 'Heaven', 'Rock and A Hard Place', 'One Thing At A Time', 'To the Bar', 'Mourning', \"Something in the Orange (Z&E's Version)\", 'Popular', 'Am I Dreaming', 'Praise You Anywhere', 'Bury Me in Georgia (Single Edit)', 'Watermelon Moonshine', 'Next Thing You Know', 'Can She Have This Dance', 'Tennessee Orange', 'Chemical', 'Dial Drunk', 'Tennessee Whiskey', 'Daylight', 'Fast Car', 'Unstoppable', 'Wasted On You', 'Hip Hop Hooray (Re-recorded Version)', 'wait in the truck', 'Sure Thing', 'Ella Baila Sola', 'Halfway To Hell', 'Waffle House', 'Take Me Out', 'Shivers', 'Peaches', 'Try That In A Small Town', 'O.P.P. (Re-recorded Version)', 'Cupid (Twin Ver.)', 'You Proof', 'Oklahoma Smokeshow', 'WHERE SHE GOES', 'One Margarita (Margarita Song)', 'PLEBADA', 'red flag collector', 'Gratitude', 'TRUCK BED', 'Drinkaby', 'Slut Me Out', 'Whiskey Glasses', \"I Ain't Worried\", 'Makeba', 'Karma (feat. Ice Spice)', 'Perfect', 'Thunderstruck', 'Lilith (Diablo IV Anthem)', 'As It Was', 'You Need To Calm Down', 'Lover', 'Hits Different', 'Life Goes On (feat. Luke Combs)', 'Your Heart Or Mine', 'Memory Lane', 'HAPPY', 'Sunflower (Spider-Man: Into the Spider-Verse)', 'Beat You There', \"'Til You Can't\", 'Put It On Da Floor Again (feat. Cardi B)', \"Chasin' You\"]\n",
      "['Luke Combs', 'BTS', 'Morgan Wallen', 'Jelly Roll', 'The Truth Bombers & Kari Lake', 'Jelly Roll', 'Mitch Rossell', 'Miley Cyrus', 'Lauren Daigle', 'Danae Hays', 'Rema & Selena Gomez', 'Young MC', 'Jelly Roll', 'Morgan Wallen', 'Tone-Loc', 'Dua Lipa', 'Kali', 'Sexyy Red, Nicki Minaj & Tay Keith', 'Lil Durk', 'Lauren Alaina & Lainey Wilson', 'Lil Durk', 'P!nk', 'Tone-Loc', 'EXO', 'Sam Smith & Madonna', 'Taylor Swift', 'Morgan Wallen', 'Toosii', 'Lainey Wilson', 'Tyler Hubbard', 'Kane Brown & Katelyn Brown', 'Luke Combs', 'Taylor Swift', 'Taylor Swift', 'Bailey Zimmerman', 'Miranda Lambert & Leon Bridges', 'Ed Sheeran', 'Niall Horan', 'Bailey Zimmerman', 'Morgan Wallen', 'Cooper Alan', 'Post Malone', 'Zach Bryan', 'The Weeknd, Playboi Carti & Madonna', 'Metro Boomin, A$AP Rocky & Roisee', 'Brandon Lake', 'Kane Brown', 'Lainey Wilson', 'Jordan Davis', 'Drew Baldridge', 'Megan Moroney', 'Post Malone', 'Noah Kahan', 'Chris Stapleton', 'David Kushner', 'Tracy Chapman', 'Sia', 'Morgan Wallen', 'Naughty By Nature', 'HARDY & Lainey Wilson', 'Miguel', 'Eslabon Armado & Peso Pluma', 'Jelly Roll', 'Jonas Brothers', 'Carrie Underwood', 'Ed Sheeran', 'Jack Black', 'Jason Aldean', 'Naughty By Nature', 'FIFTY FIFTY', 'Morgan Wallen', 'Zach Bryan', 'Bad Bunny', 'That Chick Angel, Casa Di & Steve Terrell', 'El Alfa & Peso Pluma', 'Kelly Clarkson', 'Brandon Lake', 'HARDY', 'Cole Swindell', 'NLE Choppa', 'Morgan Wallen', 'OneRepublic', 'Jain', 'Taylor Swift', 'Ed Sheeran', 'AC/DC', 'Halsey, SUGA of BTS', 'Harry Styles', 'Taylor Swift', 'Taylor Swift', 'Taylor Swift', 'Ed Sheeran', 'Jon Pardi', 'Old Dominion', 'NF', 'Post Malone & Swae Lee', 'Will Dempsey', 'Cody Johnson', 'Latto', 'Morgan Wallen']\n"
     ]
    }
   ],
   "source": [
    "title = []\n",
    "artist = []\n",
    "\n",
    "num_iter = len(soup.select(\"div.chart-content.col-xs-12.col-sm-8 > p > cite\"))\n",
    "\n",
    "\n",
    "title2 = soup.select(\"div.chart-content.col-xs-12.col-sm-8 > p > cite\")\n",
    "artist2 = soup.select(\"div.chart-content.col-xs-12.col-sm-8 > p > em\")\n",
    "\n",
    "for i in range(num_iter):\n",
    "    title.append(title2[i].get_text())\n",
    "    artist.append(artist2[i].get_text())\n",
    "\n",
    "print(title)\n",
    "print(artist)\n"
   ]
  },
  {
   "cell_type": "code",
   "execution_count": 20,
   "id": "6a56f94a",
   "metadata": {},
   "outputs": [],
   "source": [
    "Top100 = pd.DataFrame({\"Title\":title,\n",
    "                       \"Artist\":artist,\n",
    "                      })"
   ]
  },
  {
   "cell_type": "code",
   "execution_count": 21,
   "id": "24f8b051",
   "metadata": {},
   "outputs": [
    {
     "data": {
      "text/html": [
       "<div>\n",
       "<style scoped>\n",
       "    .dataframe tbody tr th:only-of-type {\n",
       "        vertical-align: middle;\n",
       "    }\n",
       "\n",
       "    .dataframe tbody tr th {\n",
       "        vertical-align: top;\n",
       "    }\n",
       "\n",
       "    .dataframe thead th {\n",
       "        text-align: right;\n",
       "    }\n",
       "</style>\n",
       "<table border=\"1\" class=\"dataframe\">\n",
       "  <thead>\n",
       "    <tr style=\"text-align: right;\">\n",
       "      <th></th>\n",
       "      <th>Title</th>\n",
       "      <th>Artist</th>\n",
       "    </tr>\n",
       "  </thead>\n",
       "  <tbody>\n",
       "    <tr>\n",
       "      <th>0</th>\n",
       "      <td>Fast Car</td>\n",
       "      <td>Luke Combs</td>\n",
       "    </tr>\n",
       "    <tr>\n",
       "      <th>1</th>\n",
       "      <td>Take Two</td>\n",
       "      <td>BTS</td>\n",
       "    </tr>\n",
       "    <tr>\n",
       "      <th>2</th>\n",
       "      <td>Last Night</td>\n",
       "      <td>Morgan Wallen</td>\n",
       "    </tr>\n",
       "    <tr>\n",
       "      <th>3</th>\n",
       "      <td>Need A Favor</td>\n",
       "      <td>Jelly Roll</td>\n",
       "    </tr>\n",
       "    <tr>\n",
       "      <th>4</th>\n",
       "      <td>81 Million Votes, My Ass</td>\n",
       "      <td>The Truth Bombers &amp; Kari Lake</td>\n",
       "    </tr>\n",
       "    <tr>\n",
       "      <th>...</th>\n",
       "      <td>...</td>\n",
       "      <td>...</td>\n",
       "    </tr>\n",
       "    <tr>\n",
       "      <th>95</th>\n",
       "      <td>Sunflower (Spider-Man: Into the Spider-Verse)</td>\n",
       "      <td>Post Malone &amp; Swae Lee</td>\n",
       "    </tr>\n",
       "    <tr>\n",
       "      <th>96</th>\n",
       "      <td>Beat You There</td>\n",
       "      <td>Will Dempsey</td>\n",
       "    </tr>\n",
       "    <tr>\n",
       "      <th>97</th>\n",
       "      <td>'Til You Can't</td>\n",
       "      <td>Cody Johnson</td>\n",
       "    </tr>\n",
       "    <tr>\n",
       "      <th>98</th>\n",
       "      <td>Put It On Da Floor Again (feat. Cardi B)</td>\n",
       "      <td>Latto</td>\n",
       "    </tr>\n",
       "    <tr>\n",
       "      <th>99</th>\n",
       "      <td>Chasin' You</td>\n",
       "      <td>Morgan Wallen</td>\n",
       "    </tr>\n",
       "  </tbody>\n",
       "</table>\n",
       "<p>100 rows × 2 columns</p>\n",
       "</div>"
      ],
      "text/plain": [
       "                                            Title  \\\n",
       "0                                        Fast Car   \n",
       "1                                        Take Two   \n",
       "2                                      Last Night   \n",
       "3                                    Need A Favor   \n",
       "4                        81 Million Votes, My Ass   \n",
       "..                                            ...   \n",
       "95  Sunflower (Spider-Man: Into the Spider-Verse)   \n",
       "96                                 Beat You There   \n",
       "97                                 'Til You Can't   \n",
       "98       Put It On Da Floor Again (feat. Cardi B)   \n",
       "99                                    Chasin' You   \n",
       "\n",
       "                           Artist  \n",
       "0                      Luke Combs  \n",
       "1                             BTS  \n",
       "2                   Morgan Wallen  \n",
       "3                      Jelly Roll  \n",
       "4   The Truth Bombers & Kari Lake  \n",
       "..                            ...  \n",
       "95         Post Malone & Swae Lee  \n",
       "96                   Will Dempsey  \n",
       "97                   Cody Johnson  \n",
       "98                          Latto  \n",
       "99                  Morgan Wallen  \n",
       "\n",
       "[100 rows x 2 columns]"
      ]
     },
     "execution_count": 21,
     "metadata": {},
     "output_type": "execute_result"
    }
   ],
   "source": [
    "Top100"
   ]
  },
  {
   "cell_type": "code",
   "execution_count": null,
   "id": "6f6b92f2",
   "metadata": {},
   "outputs": [],
   "source": []
  }
 ],
 "metadata": {
  "kernelspec": {
   "display_name": "Python 3 (ipykernel)",
   "language": "python",
   "name": "python3"
  },
  "language_info": {
   "codemirror_mode": {
    "name": "ipython",
    "version": 3
   },
   "file_extension": ".py",
   "mimetype": "text/x-python",
   "name": "python",
   "nbconvert_exporter": "python",
   "pygments_lexer": "ipython3",
   "version": "3.10.9"
  }
 },
 "nbformat": 4,
 "nbformat_minor": 5
}
